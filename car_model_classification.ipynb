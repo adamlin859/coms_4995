{
 "cells": [
  {
   "cell_type": "code",
   "execution_count": 1,
   "metadata": {},
   "outputs": [
    {
     "name": "stdout",
     "output_type": "stream",
     "text": [
      "1.4.0a0+d22f614\n"
     ]
    }
   ],
   "source": [
    "import torch\n",
    "import torch.nn as nn\n",
    "import torch.optim as optim\n",
    "from torch.optim import lr_scheduler\n",
    "import numpy as np\n",
    "import torchvision\n",
    "from torchvision import datasets, models, transforms\n",
    "import matplotlib.pyplot as plt\n",
    "import time\n",
    "import os\n",
    "import copy\n",
    "import math\n",
    "import torch.nn.functional as F\n",
    "from torch.autograd import Variable\n",
    "from tqdm.autonotebook import tqdm\n",
    "print(torch.__version__)\n",
    "import pandas as pd\n",
    "plt.ion()  \n",
    "import cv2\n",
    "from PIL import Image\n",
    "from torch.utils.data import Dataset, DataLoader"
   ]
  },
  {
   "cell_type": "code",
   "execution_count": 2,
   "metadata": {},
   "outputs": [],
   "source": [
    "from sklearn.model_selection import train_test_split"
   ]
  },
  {
   "cell_type": "code",
   "execution_count": 3,
   "metadata": {},
   "outputs": [],
   "source": [
    "from efficientnet_pytorch import EfficientNet"
   ]
  },
  {
   "cell_type": "code",
   "execution_count": 4,
   "metadata": {},
   "outputs": [],
   "source": [
    "def imread(path, fast_mode=False):\n",
    "    img = cv2.imread(path)\n",
    "    if not fast_mode and img is not None and len(img.shape) == 3:\n",
    "        img = np.array(img[:, :, ::-1])\n",
    "    return img"
   ]
  },
  {
   "cell_type": "code",
   "execution_count": 5,
   "metadata": {},
   "outputs": [],
   "source": [
    "class CarModelNet(nn.Module):\n",
    "    def __init__(self, n_classes):\n",
    "        super(CarModelNet, self).__init__()\n",
    "        self.base_model = models.vgg16(pretrained=True)\n",
    "        for param in self.base_model.parameters():\n",
    "            param.requires_grad = False\n",
    "        \n",
    "        self.fc1 = nn.Linear(1000, 256)\n",
    "        self.drop = nn.Dropout(p=0.5)\n",
    "        self.fc2 = nn.Linear(262, n_classes)\n",
    "    \n",
    "    def forward(self, x1, x2):\n",
    "        x = F.relu(self.base_model(x1))\n",
    "        x = self.drop(self.fc1(x))\n",
    "        x = torch.cat([x, x2], dim=1)\n",
    "        \n",
    "        return F.log_softmax(x) \n",
    "    "
   ]
  },
  {
   "cell_type": "code",
   "execution_count": 6,
   "metadata": {},
   "outputs": [],
   "source": [
    "def trans_data(df_train):\n",
    "    t = []\n",
    "    for i in df_train.ImageId.values:\n",
    "        data = df_train.loc[df_train.ImageId == i,'PredictionString'].values[0]\n",
    "        data = np.array(data.split(\" \")).reshape(-1, 7)\n",
    "        for x in data:\n",
    "            d = [i] + [float(a) for a in x]\n",
    "            t.append(d)\n",
    "    t = pd.DataFrame(t)\n",
    "    t.columns = ['ImageId', 'label', 'x', 'y', 'z', 'yaw', 'pitch', 'roll']\n",
    "    return t"
   ]
  },
  {
   "cell_type": "code",
   "execution_count": 22,
   "metadata": {},
   "outputs": [],
   "source": [
    "dtype = torch.cuda.FloatTensor if torch.cuda.is_available() else torch.FloatTensor\n",
    "class CarDataset(Dataset):\n",
    "    \"\"\"Car dataset.\"\"\"\n",
    "\n",
    "    def __init__(self, dataframe, root_dir, training=True, transform=None):\n",
    "        self.df = dataframe\n",
    "        self.root_dir = root_dir\n",
    "        self.transform = transform\n",
    "        self.training = training\n",
    "\n",
    "    def __len__(self):\n",
    "        return len(self.df)\n",
    "\n",
    "    def __getitem__(self, idx):\n",
    "        if torch.is_tensor(idx):\n",
    "            idx = idx.tolist()\n",
    "        \n",
    "        # Get image name\n",
    "        imageId = self.df.loc[idx].ImageId\n",
    "        img_name = self.root_dir.format(imageId)\n",
    "        label = self.df.loc[idx].label\n",
    " \n",
    "        # Read image\n",
    "        img0 = imread(img_name, True)\n",
    "        img0 = Image.fromarray(img0)\n",
    "        \n",
    "        if self.training:\n",
    "            x1 = self.transform['train'](img0)\n",
    "        else:\n",
    "            x1 = self.transform['validation'](img0)\n",
    "        \n",
    "        x2 = self.df.loc[:, ('x', 'y', 'z', 'yaw', 'pitch', 'roll')].loc[0].values\n",
    "        x2 = torch.from_numpy(x2)\n",
    "        return [x1, x2, label]"
   ]
  },
  {
   "cell_type": "code",
   "execution_count": 8,
   "metadata": {},
   "outputs": [],
   "source": [
    "PATH = \"./baselines/pku-autonomous-driving/\"\n",
    "train_images_dir = PATH + 'train_images/{}.jpg'"
   ]
  },
  {
   "cell_type": "code",
   "execution_count": 9,
   "metadata": {},
   "outputs": [],
   "source": [
    "data_transforms = {\n",
    "    'train': transforms.Compose([\n",
    "        transforms.RandomRotation(5),\n",
    "        transforms.RandomHorizontalFlip(),\n",
    "        transforms.RandomResizedCrop(224, scale=(0.96, 1.0), ratio=(0.95, 1.05)),\n",
    "        transforms.ToTensor(),\n",
    "        transforms.Normalize([0.485, 0.456, 0.406], [0.229, 0.224, 0.225])\n",
    "    ]),\n",
    "    'validation': transforms.Compose([\n",
    "        transforms.Resize([224,224]),\n",
    "        transforms.ToTensor(),\n",
    "        transforms.Normalize([0.485, 0.456, 0.406], [0.229, 0.224, 0.225])\n",
    "    ]),\n",
    "}"
   ]
  },
  {
   "cell_type": "code",
   "execution_count": 10,
   "metadata": {},
   "outputs": [],
   "source": [
    "train = pd.read_csv(PATH + \"train.csv\")"
   ]
  },
  {
   "cell_type": "code",
   "execution_count": 11,
   "metadata": {},
   "outputs": [],
   "source": [
    "df_train, df_dev = train_test_split(train, test_size=0.1, random_state=42)"
   ]
  },
  {
   "cell_type": "code",
   "execution_count": 12,
   "metadata": {},
   "outputs": [],
   "source": [
    "df_train = trans_data(df_train)\n",
    "df_dev = trans_data(df_dev)"
   ]
  },
  {
   "cell_type": "code",
   "execution_count": 13,
   "metadata": {},
   "outputs": [],
   "source": [
    "classes = list(set(df_dev.label).union(df_train.label))\n",
    "n_classes = len(set(df_dev.label).union(df_train.label))\n",
    "class_map = dict()\n",
    "label = [x for x in range(n_classes)]\n",
    "for x in zip(label, classes):\n",
    "    class_map[x[1]] = x[0]"
   ]
  },
  {
   "cell_type": "code",
   "execution_count": 14,
   "metadata": {},
   "outputs": [],
   "source": [
    "df_train['label'] = df_train['label'].apply(lambda x: class_map[x])\n",
    "df_dev['label'] = df_dev['label'].apply(lambda x: class_map[x])"
   ]
  },
  {
   "cell_type": "code",
   "execution_count": 23,
   "metadata": {
    "scrolled": true
   },
   "outputs": [],
   "source": [
    "train_dataset = CarDataset(df_train, train_images_dir, training=True, transform=data_transforms)\n",
    "dev_dataset = CarDataset(df_dev, train_images_dir, training=False, transform=data_transforms)\n",
    "# test_dataset = CarDataset(df_test, test_images_dir, training=False, transform=data_transforms)"
   ]
  },
  {
   "cell_type": "code",
   "execution_count": 24,
   "metadata": {},
   "outputs": [],
   "source": [
    "BATCH_SIZE = 2\n",
    "train_loader = DataLoader(dataset=train_dataset, batch_size=BATCH_SIZE, shuffle=True, num_workers=4)\n",
    "dev_loader = DataLoader(dataset=dev_dataset, batch_size=BATCH_SIZE, shuffle=False, num_workers=4)"
   ]
  },
  {
   "cell_type": "code",
   "execution_count": 25,
   "metadata": {},
   "outputs": [
    {
     "name": "stdout",
     "output_type": "stream",
     "text": [
      "cuda\n"
     ]
    }
   ],
   "source": [
    "device = torch.device(\"cuda\" if torch.cuda.is_available() else \"cpu\")\n",
    "print(device)"
   ]
  },
  {
   "cell_type": "code",
   "execution_count": 26,
   "metadata": {},
   "outputs": [],
   "source": [
    "model = CarModelNet(n_classes).to(device)\n",
    "optimizer = optim.Adam(model.parameters(), lr=0.001)"
   ]
  },
  {
   "cell_type": "code",
   "execution_count": 27,
   "metadata": {},
   "outputs": [],
   "source": [
    "def train(epochs, network, train_loader, val_loader, optimizer, use_gpu):\n",
    "    \"\"\"\n",
    "    Fit the model to the training dataset and save the model with \n",
    "    the best validation accuracy\n",
    "    \n",
    "    @param epochs: number of  iteration to run through whole dataset \n",
    "    @param network: model to fit\n",
    "    @param train_loader: training data\n",
    "    @param val_loader: validation data\n",
    "    @param optimizer: ex. Adam, SGD\n",
    "    \n",
    "    \"\"\"\n",
    "    \n",
    "    \n",
    "\n",
    "    for epoch in range(1, epochs +1):\n",
    "\n",
    "        progress = tqdm(enumerate(train_loader), desc=\"Loss: \", total=len(train_loader))\n",
    "        for idx, sample in enumerate(train_loader):\n",
    "            x1, x2, target = sample[0], sample[1], sample[2]\n",
    "            network.train()\n",
    "            x1, x2 = Variable(x1), Variable(x2.type(dtype))\n",
    "            target = Variable(target)\n",
    "            if torch.cuda.is_available() and use_gpu:\n",
    "                x1, x2 = x1.cuda(), x2.cuda()\n",
    "                target = target.cuda()\n",
    "                network.cuda()\n",
    "\n",
    "            # use the cross-entropy loss\n",
    "            criterion = nn.CrossEntropyLoss()\n",
    "            optimizer.zero_grad()\n",
    "            output = network(x1, x2)\n",
    "\n",
    "            loss = criterion(output, target)\n",
    "            loss.backward()\n",
    "            optimizer.step()\n",
    "\n",
    "            progress.set_description(\"Loss: {:.4f}\".format(loss.item()/(4)))\n",
    "            progress.update(1)\n",
    "        \n",
    "        # check the validation accuracy \n",
    "        loss, acc = test(network, val_loader, use_gpu)\n",
    "        print(\"epoch: {} validation loss: {} validation accuracy: {}\".format(epoch, loss, acc))\n"
   ]
  },
  {
   "cell_type": "code",
   "execution_count": 28,
   "metadata": {},
   "outputs": [],
   "source": [
    "def test(network, loader, use_gpu):\n",
    "    \"\"\"\n",
    "    Give the loader determine the accuracy\n",
    "    \n",
    "    @param loader: val_loader (validation dateset) or test_loader (test dataset)\n",
    "    \n",
    "    \"\"\"\n",
    "    \n",
    "    # this stop the dropout from happening\n",
    "    network.eval()\n",
    "    loss = 0\n",
    "    data_size = 0\n",
    "    score = []\n",
    "    with torch.no_grad():\n",
    "        for x1, x2, target in loader:\n",
    "            x1, x2 = Variable(x1), Variable(x2.type(dtype))\n",
    "            target = Variable(target)\n",
    "            if torch.cuda.is_available() and use_gpu:\n",
    "                x1, x2 = x1.cuda(), x2.cuda()\n",
    "                target = target.cuda()\n",
    "                network.cuda()\n",
    "\n",
    "            output = network(x1, x2)\n",
    "            \n",
    "            criterion = nn.CrossEntropyLoss()\n",
    "            loss += criterion(output, target)\n",
    "            \n",
    "            _, pred = torch.max(output, 1)\n",
    "            data_size += len(pred)\n",
    "            # keep the number of the correct number of correct \n",
    "            # prediction\n",
    "            score.append(pred.eq(target.data.view_as(pred)).sum().item() / len(pred))\n",
    "\n",
    "    return loss.item()/data_size, np.array(score).mean()"
   ]
  },
  {
   "cell_type": "code",
   "execution_count": 21,
   "metadata": {},
   "outputs": [
    {
     "data": {
      "application/vnd.jupyter.widget-view+json": {
       "model_id": "17e96e30a6624d70955709525826c7bb",
       "version_major": 2,
       "version_minor": 0
      },
      "text/plain": [
       "HBox(children=(IntProgress(value=0, description='Loss: ', max=22319, style=ProgressStyle(description_width='in…"
      ]
     },
     "metadata": {},
     "output_type": "display_data"
    },
    {
     "ename": "AttributeError",
     "evalue": "Caught AttributeError in DataLoader worker process 0.\nOriginal Traceback (most recent call last):\n  File \"/home/adam/anaconda3/envs/pku/lib/python3.7/site-packages/torch/utils/data/_utils/worker.py\", line 178, in _worker_loop\n    data = fetcher.fetch(index)\n  File \"/home/adam/anaconda3/envs/pku/lib/python3.7/site-packages/torch/utils/data/_utils/fetch.py\", line 44, in fetch\n    data = [self.dataset[idx] for idx in possibly_batched_index]\n  File \"/home/adam/anaconda3/envs/pku/lib/python3.7/site-packages/torch/utils/data/_utils/fetch.py\", line 44, in <listcomp>\n    data = [self.dataset[idx] for idx in possibly_batched_index]\n  File \"<ipython-input-7-e4384355b81c>\", line 33, in __getitem__\n    self.df[col] = self.df[col].type(dtype)\n  File \"/home/adam/anaconda3/envs/pku/lib/python3.7/site-packages/pandas/core/generic.py\", line 5179, in __getattr__\n    return object.__getattribute__(self, name)\nAttributeError: 'Series' object has no attribute 'type'\n",
     "output_type": "error",
     "traceback": [
      "\u001b[0;31m---------------------------------------------------------------------------\u001b[0m",
      "\u001b[0;31mAttributeError\u001b[0m                            Traceback (most recent call last)",
      "\u001b[0;32m<ipython-input-21-83e7ccd36130>\u001b[0m in \u001b[0;36m<module>\u001b[0;34m\u001b[0m\n\u001b[0;32m----> 1\u001b[0;31m \u001b[0mtrain\u001b[0m\u001b[0;34m(\u001b[0m\u001b[0;36m1\u001b[0m\u001b[0;34m,\u001b[0m \u001b[0mmodel\u001b[0m\u001b[0;34m,\u001b[0m \u001b[0mtrain_loader\u001b[0m\u001b[0;34m,\u001b[0m \u001b[0mdev_loader\u001b[0m\u001b[0;34m,\u001b[0m \u001b[0moptimizer\u001b[0m\u001b[0;34m,\u001b[0m \u001b[0;32mTrue\u001b[0m\u001b[0;34m)\u001b[0m\u001b[0;34m\u001b[0m\u001b[0;34m\u001b[0m\u001b[0m\n\u001b[0m",
      "\u001b[0;32m<ipython-input-19-d71ba8c16984>\u001b[0m in \u001b[0;36mtrain\u001b[0;34m(epochs, network, train_loader, val_loader, optimizer, use_gpu)\u001b[0m\n\u001b[1;32m     17\u001b[0m \u001b[0;34m\u001b[0m\u001b[0m\n\u001b[1;32m     18\u001b[0m         \u001b[0mprogress\u001b[0m \u001b[0;34m=\u001b[0m \u001b[0mtqdm\u001b[0m\u001b[0;34m(\u001b[0m\u001b[0menumerate\u001b[0m\u001b[0;34m(\u001b[0m\u001b[0mtrain_loader\u001b[0m\u001b[0;34m)\u001b[0m\u001b[0;34m,\u001b[0m \u001b[0mdesc\u001b[0m\u001b[0;34m=\u001b[0m\u001b[0;34m\"Loss: \"\u001b[0m\u001b[0;34m,\u001b[0m \u001b[0mtotal\u001b[0m\u001b[0;34m=\u001b[0m\u001b[0mlen\u001b[0m\u001b[0;34m(\u001b[0m\u001b[0mtrain_loader\u001b[0m\u001b[0;34m)\u001b[0m\u001b[0;34m)\u001b[0m\u001b[0;34m\u001b[0m\u001b[0;34m\u001b[0m\u001b[0m\n\u001b[0;32m---> 19\u001b[0;31m         \u001b[0;32mfor\u001b[0m \u001b[0midx\u001b[0m\u001b[0;34m,\u001b[0m \u001b[0msample\u001b[0m \u001b[0;32min\u001b[0m \u001b[0menumerate\u001b[0m\u001b[0;34m(\u001b[0m\u001b[0mtrain_loader\u001b[0m\u001b[0;34m)\u001b[0m\u001b[0;34m:\u001b[0m\u001b[0;34m\u001b[0m\u001b[0;34m\u001b[0m\u001b[0m\n\u001b[0m\u001b[1;32m     20\u001b[0m             \u001b[0mx1\u001b[0m\u001b[0;34m,\u001b[0m \u001b[0mx2\u001b[0m\u001b[0;34m,\u001b[0m \u001b[0mtarget\u001b[0m \u001b[0;34m=\u001b[0m \u001b[0msample\u001b[0m\u001b[0;34m[\u001b[0m\u001b[0;36m0\u001b[0m\u001b[0;34m]\u001b[0m\u001b[0;34m,\u001b[0m \u001b[0msample\u001b[0m\u001b[0;34m[\u001b[0m\u001b[0;36m1\u001b[0m\u001b[0;34m]\u001b[0m\u001b[0;34m,\u001b[0m \u001b[0msample\u001b[0m\u001b[0;34m[\u001b[0m\u001b[0;36m2\u001b[0m\u001b[0;34m]\u001b[0m\u001b[0;34m\u001b[0m\u001b[0;34m\u001b[0m\u001b[0m\n\u001b[1;32m     21\u001b[0m             \u001b[0mnetwork\u001b[0m\u001b[0;34m.\u001b[0m\u001b[0mtrain\u001b[0m\u001b[0;34m(\u001b[0m\u001b[0;34m)\u001b[0m\u001b[0;34m\u001b[0m\u001b[0;34m\u001b[0m\u001b[0m\n",
      "\u001b[0;32m~/anaconda3/envs/pku/lib/python3.7/site-packages/torch/utils/data/dataloader.py\u001b[0m in \u001b[0;36m__next__\u001b[0;34m(self)\u001b[0m\n\u001b[1;32m    817\u001b[0m             \u001b[0;32melse\u001b[0m\u001b[0;34m:\u001b[0m\u001b[0;34m\u001b[0m\u001b[0;34m\u001b[0m\u001b[0m\n\u001b[1;32m    818\u001b[0m                 \u001b[0;32mdel\u001b[0m \u001b[0mself\u001b[0m\u001b[0;34m.\u001b[0m\u001b[0m_task_info\u001b[0m\u001b[0;34m[\u001b[0m\u001b[0midx\u001b[0m\u001b[0;34m]\u001b[0m\u001b[0;34m\u001b[0m\u001b[0;34m\u001b[0m\u001b[0m\n\u001b[0;32m--> 819\u001b[0;31m                 \u001b[0;32mreturn\u001b[0m \u001b[0mself\u001b[0m\u001b[0;34m.\u001b[0m\u001b[0m_process_data\u001b[0m\u001b[0;34m(\u001b[0m\u001b[0mdata\u001b[0m\u001b[0;34m)\u001b[0m\u001b[0;34m\u001b[0m\u001b[0;34m\u001b[0m\u001b[0m\n\u001b[0m\u001b[1;32m    820\u001b[0m \u001b[0;34m\u001b[0m\u001b[0m\n\u001b[1;32m    821\u001b[0m     \u001b[0mnext\u001b[0m \u001b[0;34m=\u001b[0m \u001b[0m__next__\u001b[0m  \u001b[0;31m# Python 2 compatibility\u001b[0m\u001b[0;34m\u001b[0m\u001b[0;34m\u001b[0m\u001b[0m\n",
      "\u001b[0;32m~/anaconda3/envs/pku/lib/python3.7/site-packages/torch/utils/data/dataloader.py\u001b[0m in \u001b[0;36m_process_data\u001b[0;34m(self, data)\u001b[0m\n\u001b[1;32m    844\u001b[0m         \u001b[0mself\u001b[0m\u001b[0;34m.\u001b[0m\u001b[0m_try_put_index\u001b[0m\u001b[0;34m(\u001b[0m\u001b[0;34m)\u001b[0m\u001b[0;34m\u001b[0m\u001b[0;34m\u001b[0m\u001b[0m\n\u001b[1;32m    845\u001b[0m         \u001b[0;32mif\u001b[0m \u001b[0misinstance\u001b[0m\u001b[0;34m(\u001b[0m\u001b[0mdata\u001b[0m\u001b[0;34m,\u001b[0m \u001b[0mExceptionWrapper\u001b[0m\u001b[0;34m)\u001b[0m\u001b[0;34m:\u001b[0m\u001b[0;34m\u001b[0m\u001b[0;34m\u001b[0m\u001b[0m\n\u001b[0;32m--> 846\u001b[0;31m             \u001b[0mdata\u001b[0m\u001b[0;34m.\u001b[0m\u001b[0mreraise\u001b[0m\u001b[0;34m(\u001b[0m\u001b[0;34m)\u001b[0m\u001b[0;34m\u001b[0m\u001b[0;34m\u001b[0m\u001b[0m\n\u001b[0m\u001b[1;32m    847\u001b[0m         \u001b[0;32mreturn\u001b[0m \u001b[0mdata\u001b[0m\u001b[0;34m\u001b[0m\u001b[0;34m\u001b[0m\u001b[0m\n\u001b[1;32m    848\u001b[0m \u001b[0;34m\u001b[0m\u001b[0m\n",
      "\u001b[0;32m~/anaconda3/envs/pku/lib/python3.7/site-packages/torch/_utils.py\u001b[0m in \u001b[0;36mreraise\u001b[0;34m(self)\u001b[0m\n\u001b[1;32m    392\u001b[0m             \u001b[0;31m# (https://bugs.python.org/issue2651), so we work around it.\u001b[0m\u001b[0;34m\u001b[0m\u001b[0;34m\u001b[0m\u001b[0;34m\u001b[0m\u001b[0m\n\u001b[1;32m    393\u001b[0m             \u001b[0mmsg\u001b[0m \u001b[0;34m=\u001b[0m \u001b[0mKeyErrorMessage\u001b[0m\u001b[0;34m(\u001b[0m\u001b[0mmsg\u001b[0m\u001b[0;34m)\u001b[0m\u001b[0;34m\u001b[0m\u001b[0;34m\u001b[0m\u001b[0m\n\u001b[0;32m--> 394\u001b[0;31m         \u001b[0;32mraise\u001b[0m \u001b[0mself\u001b[0m\u001b[0;34m.\u001b[0m\u001b[0mexc_type\u001b[0m\u001b[0;34m(\u001b[0m\u001b[0mmsg\u001b[0m\u001b[0;34m)\u001b[0m\u001b[0;34m\u001b[0m\u001b[0;34m\u001b[0m\u001b[0m\n\u001b[0m",
      "\u001b[0;31mAttributeError\u001b[0m: Caught AttributeError in DataLoader worker process 0.\nOriginal Traceback (most recent call last):\n  File \"/home/adam/anaconda3/envs/pku/lib/python3.7/site-packages/torch/utils/data/_utils/worker.py\", line 178, in _worker_loop\n    data = fetcher.fetch(index)\n  File \"/home/adam/anaconda3/envs/pku/lib/python3.7/site-packages/torch/utils/data/_utils/fetch.py\", line 44, in fetch\n    data = [self.dataset[idx] for idx in possibly_batched_index]\n  File \"/home/adam/anaconda3/envs/pku/lib/python3.7/site-packages/torch/utils/data/_utils/fetch.py\", line 44, in <listcomp>\n    data = [self.dataset[idx] for idx in possibly_batched_index]\n  File \"<ipython-input-7-e4384355b81c>\", line 33, in __getitem__\n    self.df[col] = self.df[col].type(dtype)\n  File \"/home/adam/anaconda3/envs/pku/lib/python3.7/site-packages/pandas/core/generic.py\", line 5179, in __getattr__\n    return object.__getattribute__(self, name)\nAttributeError: 'Series' object has no attribute 'type'\n"
     ]
    }
   ],
   "source": [
    "train(1, model, train_loader, dev_loader, optimizer, True)"
   ]
  },
  {
   "cell_type": "code",
   "execution_count": 29,
   "metadata": {},
   "outputs": [],
   "source": [
    "a = next(iter(train_loader))"
   ]
  },
  {
   "cell_type": "code",
   "execution_count": null,
   "metadata": {},
   "outputs": [],
   "source": [
    "class CarModelNet(nn.Module):\n",
    "    def __init__(self, n_classes):\n",
    "        super(CarModelNet, self).__init__()\n",
    "        self.base_model = models.vgg16(pretrained=True)\n",
    "        for param in self.base_model.parameters():\n",
    "            param.requires_grad = False\n",
    "        \n",
    "        self.fc1 = nn.Linear(1000, 256)\n",
    "        self.drop = nn.Dropout(p=0.5)\n",
    "        self.fc2 = nn.Linear(262, n_classes)\n",
    "    \n",
    "    def forward(self, x1, x2):\n",
    "        x = F.relu(self.base_model(x1))\n",
    "        x = self.drop(self.fc1(x))\n",
    "        x = torch.cat([x, x2], dim=1)\n",
    "        \n",
    "        return F.log_softmax(x) "
   ]
  },
  {
   "cell_type": "code",
   "execution_count": 30,
   "metadata": {},
   "outputs": [],
   "source": [
    "k = models.vgg16(pretrained=True)"
   ]
  },
  {
   "cell_type": "code",
   "execution_count": 42,
   "metadata": {},
   "outputs": [],
   "source": [
    "x1 = Variable(a[0]).cuda()"
   ]
  },
  {
   "cell_type": "code",
   "execution_count": 43,
   "metadata": {},
   "outputs": [
    {
     "ename": "RuntimeError",
     "evalue": "Input type (torch.cuda.FloatTensor) and weight type (torch.FloatTensor) should be the same",
     "output_type": "error",
     "traceback": [
      "\u001b[0;31m---------------------------------------------------------------------------\u001b[0m",
      "\u001b[0;31mRuntimeError\u001b[0m                              Traceback (most recent call last)",
      "\u001b[0;32m<ipython-input-43-63563b78fbd3>\u001b[0m in \u001b[0;36m<module>\u001b[0;34m\u001b[0m\n\u001b[0;32m----> 1\u001b[0;31m \u001b[0mx\u001b[0m \u001b[0;34m=\u001b[0m \u001b[0mk\u001b[0m\u001b[0;34m(\u001b[0m\u001b[0mx1\u001b[0m\u001b[0;34m)\u001b[0m\u001b[0;34m\u001b[0m\u001b[0;34m\u001b[0m\u001b[0m\n\u001b[0m",
      "\u001b[0;32m~/anaconda3/envs/pku/lib/python3.7/site-packages/torch/nn/modules/module.py\u001b[0m in \u001b[0;36m__call__\u001b[0;34m(self, *input, **kwargs)\u001b[0m\n\u001b[1;32m    530\u001b[0m             \u001b[0mresult\u001b[0m \u001b[0;34m=\u001b[0m \u001b[0mself\u001b[0m\u001b[0;34m.\u001b[0m\u001b[0m_slow_forward\u001b[0m\u001b[0;34m(\u001b[0m\u001b[0;34m*\u001b[0m\u001b[0minput\u001b[0m\u001b[0;34m,\u001b[0m \u001b[0;34m**\u001b[0m\u001b[0mkwargs\u001b[0m\u001b[0;34m)\u001b[0m\u001b[0;34m\u001b[0m\u001b[0;34m\u001b[0m\u001b[0m\n\u001b[1;32m    531\u001b[0m         \u001b[0;32melse\u001b[0m\u001b[0;34m:\u001b[0m\u001b[0;34m\u001b[0m\u001b[0;34m\u001b[0m\u001b[0m\n\u001b[0;32m--> 532\u001b[0;31m             \u001b[0mresult\u001b[0m \u001b[0;34m=\u001b[0m \u001b[0mself\u001b[0m\u001b[0;34m.\u001b[0m\u001b[0mforward\u001b[0m\u001b[0;34m(\u001b[0m\u001b[0;34m*\u001b[0m\u001b[0minput\u001b[0m\u001b[0;34m,\u001b[0m \u001b[0;34m**\u001b[0m\u001b[0mkwargs\u001b[0m\u001b[0;34m)\u001b[0m\u001b[0;34m\u001b[0m\u001b[0;34m\u001b[0m\u001b[0m\n\u001b[0m\u001b[1;32m    533\u001b[0m         \u001b[0;32mfor\u001b[0m \u001b[0mhook\u001b[0m \u001b[0;32min\u001b[0m \u001b[0mself\u001b[0m\u001b[0;34m.\u001b[0m\u001b[0m_forward_hooks\u001b[0m\u001b[0;34m.\u001b[0m\u001b[0mvalues\u001b[0m\u001b[0;34m(\u001b[0m\u001b[0;34m)\u001b[0m\u001b[0;34m:\u001b[0m\u001b[0;34m\u001b[0m\u001b[0;34m\u001b[0m\u001b[0m\n\u001b[1;32m    534\u001b[0m             \u001b[0mhook_result\u001b[0m \u001b[0;34m=\u001b[0m \u001b[0mhook\u001b[0m\u001b[0;34m(\u001b[0m\u001b[0mself\u001b[0m\u001b[0;34m,\u001b[0m \u001b[0minput\u001b[0m\u001b[0;34m,\u001b[0m \u001b[0mresult\u001b[0m\u001b[0;34m)\u001b[0m\u001b[0;34m\u001b[0m\u001b[0;34m\u001b[0m\u001b[0m\n",
      "\u001b[0;32m~/anaconda3/envs/pku/lib/python3.7/site-packages/torchvision/models/vgg.py\u001b[0m in \u001b[0;36mforward\u001b[0;34m(self, x)\u001b[0m\n\u001b[1;32m     41\u001b[0m \u001b[0;34m\u001b[0m\u001b[0m\n\u001b[1;32m     42\u001b[0m     \u001b[0;32mdef\u001b[0m \u001b[0mforward\u001b[0m\u001b[0;34m(\u001b[0m\u001b[0mself\u001b[0m\u001b[0;34m,\u001b[0m \u001b[0mx\u001b[0m\u001b[0;34m)\u001b[0m\u001b[0;34m:\u001b[0m\u001b[0;34m\u001b[0m\u001b[0;34m\u001b[0m\u001b[0m\n\u001b[0;32m---> 43\u001b[0;31m         \u001b[0mx\u001b[0m \u001b[0;34m=\u001b[0m \u001b[0mself\u001b[0m\u001b[0;34m.\u001b[0m\u001b[0mfeatures\u001b[0m\u001b[0;34m(\u001b[0m\u001b[0mx\u001b[0m\u001b[0;34m)\u001b[0m\u001b[0;34m\u001b[0m\u001b[0;34m\u001b[0m\u001b[0m\n\u001b[0m\u001b[1;32m     44\u001b[0m         \u001b[0mx\u001b[0m \u001b[0;34m=\u001b[0m \u001b[0mself\u001b[0m\u001b[0;34m.\u001b[0m\u001b[0mavgpool\u001b[0m\u001b[0;34m(\u001b[0m\u001b[0mx\u001b[0m\u001b[0;34m)\u001b[0m\u001b[0;34m\u001b[0m\u001b[0;34m\u001b[0m\u001b[0m\n\u001b[1;32m     45\u001b[0m         \u001b[0mx\u001b[0m \u001b[0;34m=\u001b[0m \u001b[0mtorch\u001b[0m\u001b[0;34m.\u001b[0m\u001b[0mflatten\u001b[0m\u001b[0;34m(\u001b[0m\u001b[0mx\u001b[0m\u001b[0;34m,\u001b[0m \u001b[0;36m1\u001b[0m\u001b[0;34m)\u001b[0m\u001b[0;34m\u001b[0m\u001b[0;34m\u001b[0m\u001b[0m\n",
      "\u001b[0;32m~/anaconda3/envs/pku/lib/python3.7/site-packages/torch/nn/modules/module.py\u001b[0m in \u001b[0;36m__call__\u001b[0;34m(self, *input, **kwargs)\u001b[0m\n\u001b[1;32m    530\u001b[0m             \u001b[0mresult\u001b[0m \u001b[0;34m=\u001b[0m \u001b[0mself\u001b[0m\u001b[0;34m.\u001b[0m\u001b[0m_slow_forward\u001b[0m\u001b[0;34m(\u001b[0m\u001b[0;34m*\u001b[0m\u001b[0minput\u001b[0m\u001b[0;34m,\u001b[0m \u001b[0;34m**\u001b[0m\u001b[0mkwargs\u001b[0m\u001b[0;34m)\u001b[0m\u001b[0;34m\u001b[0m\u001b[0;34m\u001b[0m\u001b[0m\n\u001b[1;32m    531\u001b[0m         \u001b[0;32melse\u001b[0m\u001b[0;34m:\u001b[0m\u001b[0;34m\u001b[0m\u001b[0;34m\u001b[0m\u001b[0m\n\u001b[0;32m--> 532\u001b[0;31m             \u001b[0mresult\u001b[0m \u001b[0;34m=\u001b[0m \u001b[0mself\u001b[0m\u001b[0;34m.\u001b[0m\u001b[0mforward\u001b[0m\u001b[0;34m(\u001b[0m\u001b[0;34m*\u001b[0m\u001b[0minput\u001b[0m\u001b[0;34m,\u001b[0m \u001b[0;34m**\u001b[0m\u001b[0mkwargs\u001b[0m\u001b[0;34m)\u001b[0m\u001b[0;34m\u001b[0m\u001b[0;34m\u001b[0m\u001b[0m\n\u001b[0m\u001b[1;32m    533\u001b[0m         \u001b[0;32mfor\u001b[0m \u001b[0mhook\u001b[0m \u001b[0;32min\u001b[0m \u001b[0mself\u001b[0m\u001b[0;34m.\u001b[0m\u001b[0m_forward_hooks\u001b[0m\u001b[0;34m.\u001b[0m\u001b[0mvalues\u001b[0m\u001b[0;34m(\u001b[0m\u001b[0;34m)\u001b[0m\u001b[0;34m:\u001b[0m\u001b[0;34m\u001b[0m\u001b[0;34m\u001b[0m\u001b[0m\n\u001b[1;32m    534\u001b[0m             \u001b[0mhook_result\u001b[0m \u001b[0;34m=\u001b[0m \u001b[0mhook\u001b[0m\u001b[0;34m(\u001b[0m\u001b[0mself\u001b[0m\u001b[0;34m,\u001b[0m \u001b[0minput\u001b[0m\u001b[0;34m,\u001b[0m \u001b[0mresult\u001b[0m\u001b[0;34m)\u001b[0m\u001b[0;34m\u001b[0m\u001b[0;34m\u001b[0m\u001b[0m\n",
      "\u001b[0;32m~/anaconda3/envs/pku/lib/python3.7/site-packages/torch/nn/modules/container.py\u001b[0m in \u001b[0;36mforward\u001b[0;34m(self, input)\u001b[0m\n\u001b[1;32m     98\u001b[0m     \u001b[0;32mdef\u001b[0m \u001b[0mforward\u001b[0m\u001b[0;34m(\u001b[0m\u001b[0mself\u001b[0m\u001b[0;34m,\u001b[0m \u001b[0minput\u001b[0m\u001b[0;34m)\u001b[0m\u001b[0;34m:\u001b[0m\u001b[0;34m\u001b[0m\u001b[0;34m\u001b[0m\u001b[0m\n\u001b[1;32m     99\u001b[0m         \u001b[0;32mfor\u001b[0m \u001b[0mmodule\u001b[0m \u001b[0;32min\u001b[0m \u001b[0mself\u001b[0m\u001b[0;34m:\u001b[0m\u001b[0;34m\u001b[0m\u001b[0;34m\u001b[0m\u001b[0m\n\u001b[0;32m--> 100\u001b[0;31m             \u001b[0minput\u001b[0m \u001b[0;34m=\u001b[0m \u001b[0mmodule\u001b[0m\u001b[0;34m(\u001b[0m\u001b[0minput\u001b[0m\u001b[0;34m)\u001b[0m\u001b[0;34m\u001b[0m\u001b[0;34m\u001b[0m\u001b[0m\n\u001b[0m\u001b[1;32m    101\u001b[0m         \u001b[0;32mreturn\u001b[0m \u001b[0minput\u001b[0m\u001b[0;34m\u001b[0m\u001b[0;34m\u001b[0m\u001b[0m\n\u001b[1;32m    102\u001b[0m \u001b[0;34m\u001b[0m\u001b[0m\n",
      "\u001b[0;32m~/anaconda3/envs/pku/lib/python3.7/site-packages/torch/nn/modules/module.py\u001b[0m in \u001b[0;36m__call__\u001b[0;34m(self, *input, **kwargs)\u001b[0m\n\u001b[1;32m    530\u001b[0m             \u001b[0mresult\u001b[0m \u001b[0;34m=\u001b[0m \u001b[0mself\u001b[0m\u001b[0;34m.\u001b[0m\u001b[0m_slow_forward\u001b[0m\u001b[0;34m(\u001b[0m\u001b[0;34m*\u001b[0m\u001b[0minput\u001b[0m\u001b[0;34m,\u001b[0m \u001b[0;34m**\u001b[0m\u001b[0mkwargs\u001b[0m\u001b[0;34m)\u001b[0m\u001b[0;34m\u001b[0m\u001b[0;34m\u001b[0m\u001b[0m\n\u001b[1;32m    531\u001b[0m         \u001b[0;32melse\u001b[0m\u001b[0;34m:\u001b[0m\u001b[0;34m\u001b[0m\u001b[0;34m\u001b[0m\u001b[0m\n\u001b[0;32m--> 532\u001b[0;31m             \u001b[0mresult\u001b[0m \u001b[0;34m=\u001b[0m \u001b[0mself\u001b[0m\u001b[0;34m.\u001b[0m\u001b[0mforward\u001b[0m\u001b[0;34m(\u001b[0m\u001b[0;34m*\u001b[0m\u001b[0minput\u001b[0m\u001b[0;34m,\u001b[0m \u001b[0;34m**\u001b[0m\u001b[0mkwargs\u001b[0m\u001b[0;34m)\u001b[0m\u001b[0;34m\u001b[0m\u001b[0;34m\u001b[0m\u001b[0m\n\u001b[0m\u001b[1;32m    533\u001b[0m         \u001b[0;32mfor\u001b[0m \u001b[0mhook\u001b[0m \u001b[0;32min\u001b[0m \u001b[0mself\u001b[0m\u001b[0;34m.\u001b[0m\u001b[0m_forward_hooks\u001b[0m\u001b[0;34m.\u001b[0m\u001b[0mvalues\u001b[0m\u001b[0;34m(\u001b[0m\u001b[0;34m)\u001b[0m\u001b[0;34m:\u001b[0m\u001b[0;34m\u001b[0m\u001b[0;34m\u001b[0m\u001b[0m\n\u001b[1;32m    534\u001b[0m             \u001b[0mhook_result\u001b[0m \u001b[0;34m=\u001b[0m \u001b[0mhook\u001b[0m\u001b[0;34m(\u001b[0m\u001b[0mself\u001b[0m\u001b[0;34m,\u001b[0m \u001b[0minput\u001b[0m\u001b[0;34m,\u001b[0m \u001b[0mresult\u001b[0m\u001b[0;34m)\u001b[0m\u001b[0;34m\u001b[0m\u001b[0;34m\u001b[0m\u001b[0m\n",
      "\u001b[0;32m~/anaconda3/envs/pku/lib/python3.7/site-packages/torch/nn/modules/conv.py\u001b[0m in \u001b[0;36mforward\u001b[0;34m(self, input)\u001b[0m\n\u001b[1;32m    343\u001b[0m \u001b[0;34m\u001b[0m\u001b[0m\n\u001b[1;32m    344\u001b[0m     \u001b[0;32mdef\u001b[0m \u001b[0mforward\u001b[0m\u001b[0;34m(\u001b[0m\u001b[0mself\u001b[0m\u001b[0;34m,\u001b[0m \u001b[0minput\u001b[0m\u001b[0;34m)\u001b[0m\u001b[0;34m:\u001b[0m\u001b[0;34m\u001b[0m\u001b[0;34m\u001b[0m\u001b[0m\n\u001b[0;32m--> 345\u001b[0;31m         \u001b[0;32mreturn\u001b[0m \u001b[0mself\u001b[0m\u001b[0;34m.\u001b[0m\u001b[0mconv2d_forward\u001b[0m\u001b[0;34m(\u001b[0m\u001b[0minput\u001b[0m\u001b[0;34m,\u001b[0m \u001b[0mself\u001b[0m\u001b[0;34m.\u001b[0m\u001b[0mweight\u001b[0m\u001b[0;34m)\u001b[0m\u001b[0;34m\u001b[0m\u001b[0;34m\u001b[0m\u001b[0m\n\u001b[0m\u001b[1;32m    346\u001b[0m \u001b[0;34m\u001b[0m\u001b[0m\n\u001b[1;32m    347\u001b[0m \u001b[0;32mclass\u001b[0m \u001b[0mConv3d\u001b[0m\u001b[0;34m(\u001b[0m\u001b[0m_ConvNd\u001b[0m\u001b[0;34m)\u001b[0m\u001b[0;34m:\u001b[0m\u001b[0;34m\u001b[0m\u001b[0;34m\u001b[0m\u001b[0m\n",
      "\u001b[0;32m~/anaconda3/envs/pku/lib/python3.7/site-packages/torch/nn/modules/conv.py\u001b[0m in \u001b[0;36mconv2d_forward\u001b[0;34m(self, input, weight)\u001b[0m\n\u001b[1;32m    340\u001b[0m                             _pair(0), self.dilation, self.groups)\n\u001b[1;32m    341\u001b[0m         return F.conv2d(input, weight, self.bias, self.stride,\n\u001b[0;32m--> 342\u001b[0;31m                         self.padding, self.dilation, self.groups)\n\u001b[0m\u001b[1;32m    343\u001b[0m \u001b[0;34m\u001b[0m\u001b[0m\n\u001b[1;32m    344\u001b[0m     \u001b[0;32mdef\u001b[0m \u001b[0mforward\u001b[0m\u001b[0;34m(\u001b[0m\u001b[0mself\u001b[0m\u001b[0;34m,\u001b[0m \u001b[0minput\u001b[0m\u001b[0;34m)\u001b[0m\u001b[0;34m:\u001b[0m\u001b[0;34m\u001b[0m\u001b[0;34m\u001b[0m\u001b[0m\n",
      "\u001b[0;31mRuntimeError\u001b[0m: Input type (torch.cuda.FloatTensor) and weight type (torch.FloatTensor) should be the same"
     ]
    }
   ],
   "source": [
    "x = k(x1)"
   ]
  },
  {
   "cell_type": "code",
   "execution_count": 32,
   "metadata": {},
   "outputs": [],
   "source": [
    "x = F.relu(x)"
   ]
  },
  {
   "cell_type": "code",
   "execution_count": 33,
   "metadata": {},
   "outputs": [],
   "source": [
    "x = nn.Dropout(p=0.5)(nn.Linear(1000, 256)(x))"
   ]
  },
  {
   "cell_type": "code",
   "execution_count": 32,
   "metadata": {},
   "outputs": [
    {
     "data": {
      "text/plain": [
       "torch.Size([2, 256])"
      ]
     },
     "execution_count": 32,
     "metadata": {},
     "output_type": "execute_result"
    }
   ],
   "source": [
    "x.shape"
   ]
  },
  {
   "cell_type": "code",
   "execution_count": 34,
   "metadata": {},
   "outputs": [
    {
     "ename": "RuntimeError",
     "evalue": "Expected object of backend CUDA but got backend CPU for sequence element 0 in sequence argument at position #1 'tensors'",
     "output_type": "error",
     "traceback": [
      "\u001b[0;31m---------------------------------------------------------------------------\u001b[0m",
      "\u001b[0;31mRuntimeError\u001b[0m                              Traceback (most recent call last)",
      "\u001b[0;32m<ipython-input-34-6876d3d1a29f>\u001b[0m in \u001b[0;36m<module>\u001b[0;34m\u001b[0m\n\u001b[0;32m----> 1\u001b[0;31m \u001b[0mtorch\u001b[0m\u001b[0;34m.\u001b[0m\u001b[0mcat\u001b[0m\u001b[0;34m(\u001b[0m\u001b[0;34m[\u001b[0m\u001b[0mx\u001b[0m\u001b[0;34m,\u001b[0m \u001b[0ma\u001b[0m\u001b[0;34m[\u001b[0m\u001b[0;36m1\u001b[0m\u001b[0;34m]\u001b[0m\u001b[0;34m.\u001b[0m\u001b[0mtype\u001b[0m\u001b[0;34m(\u001b[0m\u001b[0mdtype\u001b[0m\u001b[0;34m)\u001b[0m\u001b[0;34m]\u001b[0m\u001b[0;34m,\u001b[0m \u001b[0mdim\u001b[0m\u001b[0;34m=\u001b[0m\u001b[0;36m1\u001b[0m\u001b[0;34m)\u001b[0m\u001b[0;34m\u001b[0m\u001b[0;34m\u001b[0m\u001b[0m\n\u001b[0m",
      "\u001b[0;31mRuntimeError\u001b[0m: Expected object of backend CUDA but got backend CPU for sequence element 0 in sequence argument at position #1 'tensors'"
     ]
    }
   ],
   "source": [
    "torch.cat([x, a[1].type(dtype)], dim=1)"
   ]
  },
  {
   "cell_type": "code",
   "execution_count": null,
   "metadata": {},
   "outputs": [],
   "source": [
    "a = imread(train_images_dir.format(df_dev.loc[0].ImageId), True)"
   ]
  },
  {
   "cell_type": "code",
   "execution_count": null,
   "metadata": {},
   "outputs": [],
   "source": [
    "df_dev.loc[:, ('x', 'y', 'z', 'yaw', 'pitch', 'roll')].loc[0].values"
   ]
  },
  {
   "cell_type": "code",
   "execution_count": 35,
   "metadata": {},
   "outputs": [
    {
     "data": {
      "text/plain": [
       "tensor([[ 0.1503, -3.0918, -3.1250, -6.4665,  3.4920, 13.0053],\n",
       "        [ 0.1503, -3.0918, -3.1250, -6.4665,  3.4920, 13.0053]],\n",
       "       device='cuda:0')"
      ]
     },
     "execution_count": 35,
     "metadata": {},
     "output_type": "execute_result"
    }
   ],
   "source": [
    "a[1].type(dtype)"
   ]
  },
  {
   "cell_type": "code",
   "execution_count": 36,
   "metadata": {},
   "outputs": [
    {
     "data": {
      "text/plain": [
       "tensor([[-0.0000e+00, -7.1266e-01,  1.9333e+00,  2.0834e+00,  8.4949e-01,\n",
       "         -0.0000e+00, -7.2108e+00, -0.0000e+00, -8.8557e-01, -7.2765e-01,\n",
       "          0.0000e+00, -0.0000e+00, -0.0000e+00,  0.0000e+00, -7.8229e-01,\n",
       "         -2.9613e+00, -2.3337e+00,  0.0000e+00,  0.0000e+00,  2.1171e+00,\n",
       "         -0.0000e+00,  0.0000e+00, -0.0000e+00,  3.5757e-01,  8.7202e-01,\n",
       "          0.0000e+00,  0.0000e+00,  0.0000e+00,  0.0000e+00, -0.0000e+00,\n",
       "         -3.7323e+00, -4.6111e-01,  0.0000e+00,  0.0000e+00, -0.0000e+00,\n",
       "          0.0000e+00, -1.0020e+00, -0.0000e+00, -1.4251e+00,  2.5165e+00,\n",
       "         -1.0077e+00,  7.2865e-01,  1.1422e+00, -0.0000e+00,  5.7599e-01,\n",
       "         -0.0000e+00, -2.3916e+00, -1.5905e+00, -7.3147e-01,  0.0000e+00,\n",
       "         -2.8286e+00, -0.0000e+00, -0.0000e+00, -0.0000e+00, -7.4345e-01,\n",
       "         -0.0000e+00,  1.2671e+00, -0.0000e+00, -0.0000e+00, -0.0000e+00,\n",
       "         -0.0000e+00, -1.3494e+00, -0.0000e+00,  2.0026e+00, -8.6210e-01,\n",
       "          7.3299e+00,  1.2931e+00,  3.5587e+00, -1.3972e+00,  2.4273e+00,\n",
       "          0.0000e+00, -0.0000e+00,  5.1258e+00,  4.4024e-01,  1.0019e+00,\n",
       "         -0.0000e+00,  1.8534e+00,  1.3419e+00, -2.4045e+00, -0.0000e+00,\n",
       "          0.0000e+00,  2.4308e+00,  3.2065e+00, -2.5014e+00, -0.0000e+00,\n",
       "          0.0000e+00,  0.0000e+00, -0.0000e+00,  3.0549e+00,  0.0000e+00,\n",
       "         -0.0000e+00, -1.1174e+00,  4.3122e-01,  1.7036e+00, -2.9590e+00,\n",
       "         -0.0000e+00,  0.0000e+00,  0.0000e+00,  0.0000e+00,  3.1463e+00,\n",
       "          2.9047e+00,  0.0000e+00,  0.0000e+00, -0.0000e+00, -1.0258e+00,\n",
       "          0.0000e+00, -4.3776e-01, -7.2809e-01, -1.0290e-01, -2.7462e+00,\n",
       "          1.6762e+00, -0.0000e+00, -0.0000e+00,  0.0000e+00,  0.0000e+00,\n",
       "          0.0000e+00, -3.4654e-01,  3.6255e-01, -7.4793e-01, -4.0969e-01,\n",
       "         -0.0000e+00,  2.8645e+00,  1.6438e+00,  2.8566e-01, -0.0000e+00,\n",
       "         -0.0000e+00, -0.0000e+00,  0.0000e+00,  2.6866e+00,  0.0000e+00,\n",
       "         -3.7956e-01, -2.3917e+00, -4.8761e-01, -2.3454e+00,  0.0000e+00,\n",
       "         -0.0000e+00,  0.0000e+00, -2.4857e+00,  1.2331e-01, -0.0000e+00,\n",
       "          0.0000e+00,  0.0000e+00,  8.4896e-01, -1.4587e+00, -1.8184e+00,\n",
       "          0.0000e+00, -1.3244e+00, -0.0000e+00, -1.9431e+00, -9.3372e-01,\n",
       "         -0.0000e+00, -6.4118e-01, -0.0000e+00, -1.1869e+00, -2.8183e+00,\n",
       "          0.0000e+00, -1.8713e+00,  4.6496e+00,  0.0000e+00, -5.8308e-01,\n",
       "         -0.0000e+00,  0.0000e+00, -3.9414e-02, -0.0000e+00,  1.4093e+00,\n",
       "          5.7055e-01,  1.1828e+00,  0.0000e+00, -5.3168e-01,  2.0645e+00,\n",
       "          0.0000e+00,  1.8012e+00,  0.0000e+00,  2.4957e+00, -0.0000e+00,\n",
       "          0.0000e+00,  0.0000e+00, -4.4818e-01, -0.0000e+00, -3.8263e-01,\n",
       "          0.0000e+00, -0.0000e+00,  2.2895e+00, -3.8867e+00,  0.0000e+00,\n",
       "         -2.4212e+00, -5.7627e-01,  0.0000e+00, -3.9813e+00, -0.0000e+00,\n",
       "         -0.0000e+00, -7.7654e-03,  1.0625e+00, -1.6372e+00,  7.2701e-01,\n",
       "          2.1854e+00, -0.0000e+00,  1.8358e+00, -1.6077e+00, -0.0000e+00,\n",
       "          3.4223e+00,  1.0214e+00,  0.0000e+00, -0.0000e+00, -0.0000e+00,\n",
       "         -1.8745e+00, -1.5280e-01,  0.0000e+00, -0.0000e+00, -0.0000e+00,\n",
       "          2.7639e+00,  2.4059e+00,  8.4679e-01,  1.3383e+00, -1.3184e-01,\n",
       "          2.7127e-01,  1.5002e+00,  0.0000e+00,  6.8345e-02,  9.8370e-01,\n",
       "          5.6606e-01, -3.7753e+00, -3.1049e+00,  0.0000e+00,  6.6025e-01,\n",
       "          1.7260e+00, -2.3150e+00,  0.0000e+00,  0.0000e+00,  2.0750e+00,\n",
       "          0.0000e+00, -1.1428e+00, -3.2735e+00,  1.1518e+00, -2.8581e+00,\n",
       "         -0.0000e+00,  2.9988e-01,  0.0000e+00,  3.0640e+00,  1.2955e-01,\n",
       "         -2.7234e-01,  0.0000e+00,  1.1367e+00,  0.0000e+00, -0.0000e+00,\n",
       "          3.1749e-01, -2.0015e+00,  3.0808e+00,  1.8143e+00, -1.4663e+00,\n",
       "          2.2425e+00, -0.0000e+00,  2.2415e-01,  0.0000e+00,  0.0000e+00,\n",
       "         -2.0546e+00],\n",
       "        [-0.0000e+00, -0.0000e+00,  0.0000e+00,  2.5993e+00, -0.0000e+00,\n",
       "         -0.0000e+00, -6.3761e+00, -0.0000e+00, -7.5542e-01,  9.6876e-01,\n",
       "          8.0965e+00, -0.0000e+00,  0.0000e+00,  0.0000e+00, -7.7756e-01,\n",
       "         -3.3380e+00, -1.9103e+00,  0.0000e+00,  1.2990e+00, -4.8776e-01,\n",
       "         -1.8595e+00,  0.0000e+00, -0.0000e+00,  1.6367e+00,  1.2894e+00,\n",
       "          0.0000e+00,  1.2288e+00, -1.1625e+00,  3.5923e+00,  1.9956e+00,\n",
       "         -0.0000e+00, -1.9585e+00,  0.0000e+00,  1.5147e+00, -0.0000e+00,\n",
       "          0.0000e+00, -0.0000e+00, -2.0621e+00, -0.0000e+00,  1.8856e+00,\n",
       "         -0.0000e+00,  0.0000e+00,  1.3950e+00, -0.0000e+00, -0.0000e+00,\n",
       "         -0.0000e+00, -0.0000e+00, -0.0000e+00, -0.0000e+00,  1.8019e-01,\n",
       "         -5.2915e+00, -0.0000e+00,  1.1056e+00, -6.3034e-01, -2.0564e+00,\n",
       "         -0.0000e+00,  1.1955e+00, -1.7308e+00,  6.9695e-01, -0.0000e+00,\n",
       "         -0.0000e+00, -4.2786e-01, -0.0000e+00, -0.0000e+00, -0.0000e+00,\n",
       "          0.0000e+00,  0.0000e+00,  0.0000e+00, -0.0000e+00,  0.0000e+00,\n",
       "          1.8212e+00,  0.0000e+00,  0.0000e+00,  0.0000e+00,  0.0000e+00,\n",
       "         -0.0000e+00,  0.0000e+00,  0.0000e+00, -1.0527e+00, -0.0000e+00,\n",
       "          3.0227e+00, -3.7992e-01,  0.0000e+00, -3.1782e+00,  0.0000e+00,\n",
       "          0.0000e+00,  0.0000e+00, -0.0000e+00,  0.0000e+00,  0.0000e+00,\n",
       "         -2.7919e+00, -2.5818e+00,  2.5950e-01,  0.0000e+00, -0.0000e+00,\n",
       "         -0.0000e+00,  2.5825e-01,  0.0000e+00, -8.2064e-01,  0.0000e+00,\n",
       "          0.0000e+00,  6.1131e+00,  3.2130e+00, -0.0000e+00, -9.9297e-01,\n",
       "          2.6647e+00,  0.0000e+00, -4.3142e+00,  2.8195e+00, -1.1707e+00,\n",
       "          0.0000e+00, -0.0000e+00, -1.1488e+00,  1.0863e+00,  1.1985e-01,\n",
       "         -2.1334e-01, -0.0000e+00, -1.6477e+00, -5.9822e-01,  5.7709e-01,\n",
       "         -1.3753e+00,  2.1662e+00,  0.0000e+00, -0.0000e+00, -0.0000e+00,\n",
       "         -3.7087e-01, -5.3556e-01,  3.5922e+00,  0.0000e+00,  0.0000e+00,\n",
       "         -4.5821e-01, -0.0000e+00, -1.5338e+00, -0.0000e+00, -0.0000e+00,\n",
       "         -2.9915e+00, -0.0000e+00, -0.0000e+00, -0.0000e+00, -2.4293e-01,\n",
       "          2.0646e+00,  0.0000e+00, -5.4075e-01, -3.2824e+00, -1.5671e+00,\n",
       "          1.9047e+00, -1.6488e+00, -9.3046e-01, -0.0000e+00, -0.0000e+00,\n",
       "         -0.0000e+00,  1.0208e+00,  0.0000e+00, -0.0000e+00, -4.5268e+00,\n",
       "          0.0000e+00, -1.7490e+00,  0.0000e+00,  4.7583e+00,  1.2329e+00,\n",
       "          1.5296e+00,  1.2275e+00,  0.0000e+00, -3.7342e+00,  3.6410e+00,\n",
       "         -1.8688e+00, -0.0000e+00,  2.4944e+00, -3.4774e+00,  0.0000e+00,\n",
       "          4.7400e+00,  2.8585e+00,  3.1474e+00,  0.0000e+00, -3.1308e+00,\n",
       "          0.0000e+00,  0.0000e+00, -3.9986e-01, -0.0000e+00,  3.5506e-01,\n",
       "          0.0000e+00,  0.0000e+00,  5.1501e+00, -5.4527e+00,  0.0000e+00,\n",
       "         -0.0000e+00, -2.0205e-01,  1.5037e-01, -0.0000e+00,  0.0000e+00,\n",
       "         -3.9662e+00, -0.0000e+00,  0.0000e+00, -1.1605e+00,  6.5367e-01,\n",
       "         -0.0000e+00, -2.1415e+00,  0.0000e+00,  0.0000e+00,  0.0000e+00,\n",
       "          0.0000e+00, -0.0000e+00,  2.0935e+00, -0.0000e+00, -0.0000e+00,\n",
       "         -0.0000e+00,  0.0000e+00, -8.5384e-01, -0.0000e+00, -6.0819e-01,\n",
       "          3.1826e+00,  0.0000e+00,  0.0000e+00, -0.0000e+00,  2.6834e+00,\n",
       "         -1.3399e+00,  0.0000e+00,  0.0000e+00,  0.0000e+00,  2.1382e+00,\n",
       "          1.5022e+00, -0.0000e+00, -0.0000e+00,  2.8787e+00,  0.0000e+00,\n",
       "          3.0945e+00, -0.0000e+00,  0.0000e+00, -0.0000e+00,  0.0000e+00,\n",
       "         -0.0000e+00,  0.0000e+00, -3.0190e+00,  0.0000e+00, -0.0000e+00,\n",
       "         -1.3703e+00,  9.2803e-01,  0.0000e+00,  0.0000e+00,  0.0000e+00,\n",
       "          7.4498e-01,  0.0000e+00, -3.6313e-01,  0.0000e+00, -0.0000e+00,\n",
       "         -0.0000e+00, -0.0000e+00,  0.0000e+00,  1.5347e+00, -2.2135e+00,\n",
       "          0.0000e+00, -0.0000e+00,  9.7957e-01,  3.0867e+00,  0.0000e+00,\n",
       "         -3.5442e+00]], grad_fn=<MulBackward0>)"
      ]
     },
     "execution_count": 36,
     "metadata": {},
     "output_type": "execute_result"
    }
   ],
   "source": [
    "x"
   ]
  },
  {
   "cell_type": "code",
   "execution_count": null,
   "metadata": {},
   "outputs": [],
   "source": []
  }
 ],
 "metadata": {
  "kernelspec": {
   "display_name": "Python 3",
   "language": "python",
   "name": "python3"
  },
  "language_info": {
   "codemirror_mode": {
    "name": "ipython",
    "version": 3
   },
   "file_extension": ".py",
   "mimetype": "text/x-python",
   "name": "python",
   "nbconvert_exporter": "python",
   "pygments_lexer": "ipython3",
   "version": "3.7.5"
  }
 },
 "nbformat": 4,
 "nbformat_minor": 2
}
